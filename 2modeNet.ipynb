{
 "cells": [
  {
   "cell_type": "markdown",
   "metadata": {},
   "source": [
    "# Project 2: Two Mode Network  \n",
    "IS620 Web Analytics  \n",
    "Aaron Palumbo | Partho Banarjee  "
   ]
  },
  {
   "cell_type": "code",
   "execution_count": 1,
   "metadata": {
    "collapsed": false
   },
   "outputs": [
    {
     "name": "stdout",
     "output_type": "stream",
     "text": [
      "Populating the interactive namespace from numpy and matplotlib\n"
     ]
    }
   ],
   "source": [
    "import IPython.display as dis\n",
    "import networkx as nx\n",
    "import pandas as pd\n",
    "import matplotlib.pyplot as plt\n",
    "\n",
    "# Little more to add for generating graphs\n",
    "%pylab inline\n",
    "pylab.rcParams['figure.figsize'] = (10, 8)"
   ]
  },
  {
   "cell_type": "markdown",
   "metadata": {},
   "source": [
    "## Data"
   ]
  },
  {
   "cell_type": "markdown",
   "metadata": {},
   "source": [
    "#### Norwegian Interlocking Directorate (August 2009)\n",
    "\n",
    "Excerpt from the data definition: \n",
    "\n",
    "> This website is the 2-year continuation of a research project on board memberships and gender in Norway. The main foundation of the paper is a gender representation law that required all public limited companies to compose their boards with at least 40% of each gender by January 2008. The paper attempted to stike a balance between the urgency of studying the gender represention law and the amount of data available (the analysis relied on data from August 2009).\n",
    "\n",
    "> We collected a list of all the 384 public limited companies in Norway (Allmennaksjeselskap or ASA) that were available online through the Norwegian Business Register on August 5, 2009. We chose these companies as they are the ones bound by the gender representation law.\n",
    "\n",
    "For this project, we chose to work with the data from Aug 2011. Further details about the data is as below:"
   ]
  },
  {
   "cell_type": "code",
   "execution_count": 2,
   "metadata": {
    "collapsed": false
   },
   "outputs": [
    {
     "data": {
      "text/html": [
       "\n",
       "        <iframe\n",
       "            width=\"800\"\n",
       "            height=\"400\"\n",
       "            src=\"http://www.boardsandgender.com/data.php\"\n",
       "            frameborder=\"0\"\n",
       "            allowfullscreen\n",
       "        ></iframe>\n",
       "        "
      ],
      "text/plain": [
       "<IPython.lib.display.IFrame at 0x3b10940>"
      ]
     },
     "execution_count": 2,
     "metadata": {},
     "output_type": "execute_result"
    }
   ],
   "source": [
    "dis.IFrame(src=\"http://www.boardsandgender.com/data.php\",\n",
    "           width=800, height=400)"
   ]
  },
  {
   "cell_type": "markdown",
   "metadata": {},
   "source": [
    "## Data Preparation"
   ]
  },
  {
   "cell_type": "markdown",
   "metadata": {},
   "source": [
    "#### Company Data"
   ]
  },
  {
   "cell_type": "code",
   "execution_count": 3,
   "metadata": {
    "collapsed": false
   },
   "outputs": [
    {
     "data": {
      "text/html": [
       "<div>\n",
       "<table border=\"1\" class=\"dataframe\">\n",
       "  <thead>\n",
       "    <tr style=\"text-align: right;\">\n",
       "      <th></th>\n",
       "      <th>companyID</th>\n",
       "      <th>TaxID</th>\n",
       "      <th>Company</th>\n",
       "      <th>address</th>\n",
       "    </tr>\n",
       "  </thead>\n",
       "  <tbody>\n",
       "    <tr>\n",
       "      <th>0</th>\n",
       "      <td>1</td>\n",
       "      <td>879447992</td>\n",
       "      <td>24SEVENOFFICE ASA</td>\n",
       "      <td>0667 OSLO</td>\n",
       "    </tr>\n",
       "    <tr>\n",
       "      <th>1</th>\n",
       "      <td>2</td>\n",
       "      <td>990031479</td>\n",
       "      <td>A-COM NORGE ASA</td>\n",
       "      <td>0355 OSLO</td>\n",
       "    </tr>\n",
       "    <tr>\n",
       "      <th>2</th>\n",
       "      <td>3</td>\n",
       "      <td>890687792</td>\n",
       "      <td>ABERDEEN EIENDOMSFOND ASIA ASA</td>\n",
       "      <td>0230 OSLO</td>\n",
       "    </tr>\n",
       "    <tr>\n",
       "      <th>3</th>\n",
       "      <td>4</td>\n",
       "      <td>989761390</td>\n",
       "      <td>ABERDEEN EIENDOMSFOND NORDEN/BALTIKUM ASA</td>\n",
       "      <td>0255 OSLO</td>\n",
       "    </tr>\n",
       "    <tr>\n",
       "      <th>4</th>\n",
       "      <td>5</td>\n",
       "      <td>988671258</td>\n",
       "      <td>ABERDEEN EIENDOMSFOND NORGE II ASA</td>\n",
       "      <td>0255 OSLO</td>\n",
       "    </tr>\n",
       "  </tbody>\n",
       "</table>\n",
       "</div>"
      ],
      "text/plain": [
       "   companyID      TaxID                                    Company    address\n",
       "0          1  879447992                          24SEVENOFFICE ASA  0667 OSLO\n",
       "1          2  990031479                            A-COM NORGE ASA  0355 OSLO\n",
       "2          3  890687792             ABERDEEN EIENDOMSFOND ASIA ASA  0230 OSLO\n",
       "3          4  989761390  ABERDEEN EIENDOMSFOND NORDEN/BALTIKUM ASA  0255 OSLO\n",
       "4          5  988671258         ABERDEEN EIENDOMSFOND NORGE II ASA  0255 OSLO"
      ]
     },
     "execution_count": 3,
     "metadata": {},
     "output_type": "execute_result"
    }
   ],
   "source": [
    "comDF = pd.read_csv(\"data_companies.txt\", sep=\"\\t\", header=None, names=[\"companyID\", \"TaxID\", \"Company\", \"address\"])\n",
    "comDF.head()"
   ]
  },
  {
   "cell_type": "markdown",
   "metadata": {},
   "source": [
    "#### Person Data"
   ]
  },
  {
   "cell_type": "code",
   "execution_count": 4,
   "metadata": {
    "collapsed": false
   },
   "outputs": [
    {
     "data": {
      "text/html": [
       "<div>\n",
       "<table border=\"1\" class=\"dataframe\">\n",
       "  <thead>\n",
       "    <tr style=\"text-align: right;\">\n",
       "      <th></th>\n",
       "      <th>personID</th>\n",
       "      <th>Name</th>\n",
       "      <th>Gender</th>\n",
       "    </tr>\n",
       "  </thead>\n",
       "  <tbody>\n",
       "    <tr>\n",
       "      <th>0</th>\n",
       "      <td>1</td>\n",
       "      <td>Aage Jakobsen</td>\n",
       "      <td>1</td>\n",
       "    </tr>\n",
       "    <tr>\n",
       "      <th>1</th>\n",
       "      <td>2</td>\n",
       "      <td>Aage Johan Rem�y</td>\n",
       "      <td>1</td>\n",
       "    </tr>\n",
       "    <tr>\n",
       "      <th>2</th>\n",
       "      <td>3</td>\n",
       "      <td>Aage Rasmus Bjelland Figenschou</td>\n",
       "      <td>1</td>\n",
       "    </tr>\n",
       "    <tr>\n",
       "      <th>3</th>\n",
       "      <td>4</td>\n",
       "      <td>Aagot Irene Skjeldal</td>\n",
       "      <td>2</td>\n",
       "    </tr>\n",
       "    <tr>\n",
       "      <th>4</th>\n",
       "      <td>5</td>\n",
       "      <td>Aase Gundersen</td>\n",
       "      <td>2</td>\n",
       "    </tr>\n",
       "  </tbody>\n",
       "</table>\n",
       "</div>"
      ],
      "text/plain": [
       "   personID                             Name  Gender\n",
       "0         1                    Aage Jakobsen       1\n",
       "1         2                 Aage Johan Rem�y       1\n",
       "2         3  Aage Rasmus Bjelland Figenschou       1\n",
       "3         4             Aagot Irene Skjeldal       2\n",
       "4         5                   Aase Gundersen       2"
      ]
     },
     "execution_count": 4,
     "metadata": {},
     "output_type": "execute_result"
    }
   ],
   "source": [
    "perDF = pd.read_csv(\"data_people.txt\", sep=\" \", header=None, names=[\"personID\", \"Name\", \"Gender\"])\n",
    "perDF.head()"
   ]
  },
  {
   "cell_type": "markdown",
   "metadata": {},
   "source": [
    "#### Board Data\n",
    "\n",
    "The data below represents Company ID and Person ID."
   ]
  },
  {
   "cell_type": "code",
   "execution_count": 5,
   "metadata": {
    "collapsed": false
   },
   "outputs": [
    {
     "data": {
      "text/html": [
       "<div>\n",
       "<table border=\"1\" class=\"dataframe\">\n",
       "  <thead>\n",
       "    <tr style=\"text-align: right;\">\n",
       "      <th></th>\n",
       "      <th>companyID</th>\n",
       "      <th>personID</th>\n",
       "    </tr>\n",
       "  </thead>\n",
       "  <tbody>\n",
       "    <tr>\n",
       "      <th>0</th>\n",
       "      <td>1</td>\n",
       "      <td>2149</td>\n",
       "    </tr>\n",
       "    <tr>\n",
       "      <th>1</th>\n",
       "      <td>1</td>\n",
       "      <td>2910</td>\n",
       "    </tr>\n",
       "    <tr>\n",
       "      <th>2</th>\n",
       "      <td>1</td>\n",
       "      <td>3684</td>\n",
       "    </tr>\n",
       "    <tr>\n",
       "      <th>3</th>\n",
       "      <td>1</td>\n",
       "      <td>3754</td>\n",
       "    </tr>\n",
       "    <tr>\n",
       "      <th>4</th>\n",
       "      <td>2</td>\n",
       "      <td>766</td>\n",
       "    </tr>\n",
       "  </tbody>\n",
       "</table>\n",
       "</div>"
      ],
      "text/plain": [
       "   companyID  personID\n",
       "0          1      2149\n",
       "1          1      2910\n",
       "2          1      3684\n",
       "3          1      3754\n",
       "4          2       766"
      ]
     },
     "execution_count": 5,
     "metadata": {},
     "output_type": "execute_result"
    }
   ],
   "source": [
    "netDF = pd.read_csv(\"net2m_2011-08-01.txt\", sep=\" \", header=None, names=[\"companyID\", \"personID\"])\n",
    "netDF.head()"
   ]
  },
  {
   "cell_type": "code",
   "execution_count": 6,
   "metadata": {
    "collapsed": false
   },
   "outputs": [
    {
     "name": "stdout",
     "output_type": "stream",
     "text": [
      "The range of values for company are: 1 to 384\n"
     ]
    }
   ],
   "source": [
    "print \"The range of values for company are: {} to {}\".format(netDF.companyID.min(), \n",
    "                                                             netDF.companyID.max())"
   ]
  },
  {
   "cell_type": "code",
   "execution_count": 7,
   "metadata": {
    "collapsed": false
   },
   "outputs": [
    {
     "name": "stdout",
     "output_type": "stream",
     "text": [
      "The range of IDs for person are: 3 to 5766\n"
     ]
    }
   ],
   "source": [
    "print \"The range of IDs for person are: {} to {}\".format(netDF.personID.min(),\n",
    "                                                            netDF.personID.max())"
   ]
  },
  {
   "cell_type": "markdown",
   "metadata": {},
   "source": [
    "#### Combine the datasets"
   ]
  },
  {
   "cell_type": "code",
   "execution_count": 8,
   "metadata": {
    "collapsed": false
   },
   "outputs": [
    {
     "data": {
      "text/html": [
       "<div>\n",
       "<table border=\"1\" class=\"dataframe\">\n",
       "  <thead>\n",
       "    <tr style=\"text-align: right;\">\n",
       "      <th></th>\n",
       "      <th>companyID</th>\n",
       "      <th>personID</th>\n",
       "      <th>TaxID</th>\n",
       "      <th>Company</th>\n",
       "      <th>address</th>\n",
       "      <th>Name</th>\n",
       "      <th>Gender</th>\n",
       "    </tr>\n",
       "  </thead>\n",
       "  <tbody>\n",
       "    <tr>\n",
       "      <th>0</th>\n",
       "      <td>1</td>\n",
       "      <td>2149</td>\n",
       "      <td>879447992</td>\n",
       "      <td>24SEVENOFFICE ASA</td>\n",
       "      <td>0667 OSLO</td>\n",
       "      <td>Hilde Maren Haugnes Schjager</td>\n",
       "      <td>2</td>\n",
       "    </tr>\n",
       "    <tr>\n",
       "      <th>1</th>\n",
       "      <td>1</td>\n",
       "      <td>2910</td>\n",
       "      <td>879447992</td>\n",
       "      <td>24SEVENOFFICE ASA</td>\n",
       "      <td>0667 OSLO</td>\n",
       "      <td>Karl Anders Gr�nland</td>\n",
       "      <td>1</td>\n",
       "    </tr>\n",
       "    <tr>\n",
       "      <th>2</th>\n",
       "      <td>1</td>\n",
       "      <td>3684</td>\n",
       "      <td>879447992</td>\n",
       "      <td>24SEVENOFFICE ASA</td>\n",
       "      <td>0667 OSLO</td>\n",
       "      <td>Marte Kopperstad</td>\n",
       "      <td>2</td>\n",
       "    </tr>\n",
       "    <tr>\n",
       "      <th>3</th>\n",
       "      <td>1</td>\n",
       "      <td>3754</td>\n",
       "      <td>879447992</td>\n",
       "      <td>24SEVENOFFICE ASA</td>\n",
       "      <td>0667 OSLO</td>\n",
       "      <td>Michael Grant Jacobs</td>\n",
       "      <td>1</td>\n",
       "    </tr>\n",
       "    <tr>\n",
       "      <th>4</th>\n",
       "      <td>2</td>\n",
       "      <td>766</td>\n",
       "      <td>990031479</td>\n",
       "      <td>A-COM NORGE ASA</td>\n",
       "      <td>0355 OSLO</td>\n",
       "      <td>Bj�rn Ivar Carlsen</td>\n",
       "      <td>1</td>\n",
       "    </tr>\n",
       "  </tbody>\n",
       "</table>\n",
       "</div>"
      ],
      "text/plain": [
       "   companyID  personID      TaxID            Company    address  \\\n",
       "0          1      2149  879447992  24SEVENOFFICE ASA  0667 OSLO   \n",
       "1          1      2910  879447992  24SEVENOFFICE ASA  0667 OSLO   \n",
       "2          1      3684  879447992  24SEVENOFFICE ASA  0667 OSLO   \n",
       "3          1      3754  879447992  24SEVENOFFICE ASA  0667 OSLO   \n",
       "4          2       766  990031479    A-COM NORGE ASA  0355 OSLO   \n",
       "\n",
       "                           Name  Gender  \n",
       "0  Hilde Maren Haugnes Schjager       2  \n",
       "1          Karl Anders Gr�nland       1  \n",
       "2              Marte Kopperstad       2  \n",
       "3          Michael Grant Jacobs       1  \n",
       "4            Bj�rn Ivar Carlsen       1  "
      ]
     },
     "execution_count": 8,
     "metadata": {},
     "output_type": "execute_result"
    }
   ],
   "source": [
    "mrgDF = pd.merge(netDF, comDF, on='companyID', how='inner')\n",
    "mrgDF = pd.merge(mrgDF, perDF, on='personID', how='inner')\n",
    "mrgDF.head()"
   ]
  },
  {
   "cell_type": "code",
   "execution_count": 9,
   "metadata": {
    "collapsed": false
   },
   "outputs": [
    {
     "data": {
      "text/plain": [
       "414"
      ]
     },
     "execution_count": 9,
     "metadata": {},
     "output_type": "execute_result"
    }
   ],
   "source": [
    "# Quick sense for the number of  overlaping values\n",
    "sum([i in netDF.personID.values for i in netDF.companyID.values])"
   ]
  },
  {
   "cell_type": "markdown",
   "metadata": {},
   "source": [
    "We can't add these to a networkx graph yet since it will treat the overlapping numbers as the same node. [Partho] AARON, NOT SURE WHAT YOU MEAN HERE."
   ]
  },
  {
   "cell_type": "markdown",
   "metadata": {},
   "source": [
    "#### Construct a directed graph"
   ]
  },
  {
   "cell_type": "code",
   "execution_count": 10,
   "metadata": {
    "collapsed": true
   },
   "outputs": [],
   "source": [
    "## we need to keep track separately of nodes of all types\n",
    "persons=[]\n",
    "companies=[]"
   ]
  },
  {
   "cell_type": "code",
   "execution_count": 11,
   "metadata": {
    "collapsed": false
   },
   "outputs": [
    {
     "data": {
      "text/plain": [
       "companyID     int64\n",
       "personID      int64\n",
       "TaxID         int64\n",
       "Company      object\n",
       "address      object\n",
       "Name         object\n",
       "Gender        int64\n",
       "dtype: object"
      ]
     },
     "execution_count": 11,
     "metadata": {},
     "output_type": "execute_result"
    }
   ],
   "source": [
    "mrgDF.dtypes"
   ]
  },
  {
   "cell_type": "code",
   "execution_count": 12,
   "metadata": {
    "collapsed": false
   },
   "outputs": [],
   "source": [
    "g = nx.from_pandas_dataframe(mrgDF,'companyID','personID','Gender')"
   ]
  },
  {
   "cell_type": "code",
   "execution_count": 13,
   "metadata": {
    "collapsed": false
   },
   "outputs": [
    {
     "data": {
      "image/png": "[encoded data removed]",
      "text/plain": [
       "<matplotlib.figure.Figure at 0x3b10828>"
      ]
     },
     "metadata": {},
     "output_type": "display_data"
    }
   ],
   "source": [
    "nx.draw(g)\n",
    "plt.show()"
   ]
  },
  {
   "cell_type": "code",
   "execution_count": null,
   "metadata": {
    "collapsed": true
   },
   "outputs": [],
   "source": []
  }
 ],
 "metadata": {
  "kernelspec": {
   "display_name": "Python 2",
   "language": "python",
   "name": "python2"
  },
  "language_info": {
   "codemirror_mode": {
    "name": "ipython",
    "version": 2
   },
   "file_extension": ".py",
   "mimetype": "text/x-python",
   "name": "python",
   "nbconvert_exporter": "python",
   "pygments_lexer": "ipython2",
   "version": "2.7.10"
  }
 },
 "nbformat": 4,
 "nbformat_minor": 0
}
