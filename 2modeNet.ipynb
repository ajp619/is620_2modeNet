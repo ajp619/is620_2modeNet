{
 "cells": [
  {
   "cell_type": "markdown",
   "metadata": {},
   "source": [
    "# Project 2: Two Mode Network  \n",
    "IS620 Web Analytics  \n",
    "Aaron Palumbo | Partho Banarjee  "
   ]
  },
  {
   "cell_type": "code",
   "execution_count": 154,
   "metadata": {
    "collapsed": false
   },
   "outputs": [
    {
     "name": "stdout",
     "output_type": "stream",
     "text": [
      "Populating the interactive namespace from numpy and matplotlib\n"
     ]
    }
   ],
   "source": [
    "import IPython.display as dis\n",
    "import networkx as nx\n",
    "import pandas as pd\n",
    "\n",
    "# Little more to add for generating graphs\n",
    "%pylab inline\n",
    "pylab.rcParams['figure.figsize'] = (10, 8)"
   ]
  },
  {
   "cell_type": "markdown",
   "metadata": {},
   "source": [
    "## Data"
   ]
  },
  {
   "cell_type": "markdown",
   "metadata": {},
   "source": [
    "#### Norwegian Interlocking Directorate (August 2009)\n",
    "\n",
    "Excerpt from the data definition: \n",
    "\n",
    "> This website is the 2-year continuation of a research project on board memberships and gender in Norway. The main foundation of the paper is a gender representation law that required all public limited companies to compose their boards with at least 40% of each gender by January 2008. The paper attempted to stike a balance between the urgency of studying the gender represention law and the amount of data available (the analysis relied on data from August 2009).\n",
    "\n",
    "> We collected a list of all the 384 public limited companies in Norway (Allmennaksjeselskap or ASA) that were available online through the Norwegian Business Register on August 5, 2009. We chose these companies as they are the ones bound by the gender representation law.\n",
    "\n",
    "For this project, we chose to work with the data from Aug 2011. Further details about the data is as below:"
   ]
  },
  {
   "cell_type": "markdown",
   "metadata": {},
   "source": [
    "We chose the following dataset to work with:"
   ]
  },
  {
   "cell_type": "code",
   "execution_count": 155,
   "metadata": {
    "collapsed": false
   },
   "outputs": [
    {
     "data": {
      "text/html": [
       "\n",
       "        <iframe\n",
       "            width=\"800\"\n",
       "            height=\"400\"\n",
       "            src=\"http://www.boardsandgender.com/data.php\"\n",
       "            frameborder=\"0\"\n",
       "            allowfullscreen\n",
       "        ></iframe>\n",
       "        "
      ],
      "text/plain": [
       "<IPython.lib.display.IFrame at 0x16bf4198>"
      ]
     },
     "execution_count": 155,
     "metadata": {},
     "output_type": "execute_result"
    }
   ],
   "source": [
    "dis.IFrame(src=\"http://www.boardsandgender.com/data.php\",\n",
    "           width=800, height=400)"
   ]
  },
  {
   "cell_type": "markdown",
   "metadata": {},
   "source": [
    "Specifically, we will work with the data from Aug. 2011."
   ]
  },
  {
   "cell_type": "markdown",
   "metadata": {},
   "source": [
    "## Data Cleaning"
   ]
  },
  {
   "cell_type": "markdown",
   "metadata": {},
   "source": [
    "First we need to clean this up a bit. Our data file contains two columns, the first identifies a director, the second identifies a board to which that director is associated. Let's take a look at what we have:"
   ]
  },
  {
   "cell_type": "code",
   "execution_count": 156,
   "metadata": {
    "collapsed": false
   },
   "outputs": [
    {
     "name": "stdout",
     "output_type": "stream",
     "text": [
      "(1746, 2)\n"
     ]
    },
    {
     "data": {
      "text/html": [
       "<div>\n",
       "<table border=\"1\" class=\"dataframe\">\n",
       "  <thead>\n",
       "    <tr style=\"text-align: right;\">\n",
       "      <th></th>\n",
       "      <th>companyID</th>\n",
       "      <th>personalID</th>\n",
       "    </tr>\n",
       "  </thead>\n",
       "  <tbody>\n",
       "    <tr>\n",
       "      <th>0</th>\n",
       "      <td>1</td>\n",
       "      <td>2149</td>\n",
       "    </tr>\n",
       "    <tr>\n",
       "      <th>1</th>\n",
       "      <td>1</td>\n",
       "      <td>2910</td>\n",
       "    </tr>\n",
       "    <tr>\n",
       "      <th>2</th>\n",
       "      <td>1</td>\n",
       "      <td>3684</td>\n",
       "    </tr>\n",
       "    <tr>\n",
       "      <th>3</th>\n",
       "      <td>1</td>\n",
       "      <td>3754</td>\n",
       "    </tr>\n",
       "    <tr>\n",
       "      <th>4</th>\n",
       "      <td>2</td>\n",
       "      <td>766</td>\n",
       "    </tr>\n",
       "  </tbody>\n",
       "</table>\n",
       "</div>"
      ],
      "text/plain": [
       "   companyID  personalID\n",
       "0          1        2149\n",
       "1          1        2910\n",
       "2          1        3684\n",
       "3          1        3754\n",
       "4          2         766"
      ]
     },
     "execution_count": 156,
     "metadata": {},
     "output_type": "execute_result"
    }
   ],
   "source": [
    "netDF = pd.read_csv(\"net2m_2011-08-01.txt\", sep=\" \", \n",
    "                    header=None, names=[\"companyID\", \"personalID\"])\n",
    "print netDF.shape\n",
    "netDF.head()"
   ]
  },
  {
   "cell_type": "code",
   "execution_count": 157,
   "metadata": {
    "collapsed": false
   },
   "outputs": [
    {
     "name": "stdout",
     "output_type": "stream",
     "text": [
      "The range of values for company are: 1 to 384\n"
     ]
    }
   ],
   "source": [
    "print \"The range of values for company are: {} to {}\".format(netDF.companyID.min(), \n",
    "                                                             netDF.companyID.max())"
   ]
  },
  {
   "cell_type": "code",
   "execution_count": 158,
   "metadata": {
    "collapsed": false
   },
   "outputs": [
    {
     "name": "stdout",
     "output_type": "stream",
     "text": [
      "The range of values for person are: 3 to 5766\n"
     ]
    }
   ],
   "source": [
    "print \"The range of values for person are: {} to {}\".format(netDF.personalID.min(),\n",
    "                                                            netDF.personalID.max())"
   ]
  },
  {
   "cell_type": "code",
   "execution_count": 159,
   "metadata": {
    "collapsed": false
   },
   "outputs": [
    {
     "data": {
      "text/plain": [
       "414"
      ]
     },
     "execution_count": 159,
     "metadata": {},
     "output_type": "execute_result"
    }
   ],
   "source": [
    "# Quick sense for the number of  overlaping values\n",
    "sum([i in netDF.personalID.values for i in netDF.companyID.values])"
   ]
  },
  {
   "cell_type": "markdown",
   "metadata": {},
   "source": [
    "We can't add these to a networkx graph yet since it will treat the overlapping numbers as the same node."
   ]
  },
  {
   "cell_type": "code",
   "execution_count": 160,
   "metadata": {
    "collapsed": false
   },
   "outputs": [
    {
     "data": {
      "text/html": [
       "<div>\n",
       "<table border=\"1\" class=\"dataframe\">\n",
       "  <thead>\n",
       "    <tr style=\"text-align: right;\">\n",
       "      <th></th>\n",
       "      <th>companyID</th>\n",
       "      <th>orgNum</th>\n",
       "      <th>name</th>\n",
       "      <th>address</th>\n",
       "    </tr>\n",
       "  </thead>\n",
       "  <tbody>\n",
       "    <tr>\n",
       "      <th>0</th>\n",
       "      <td>1</td>\n",
       "      <td>879447992</td>\n",
       "      <td>24SEVENOFFICE ASA</td>\n",
       "      <td>0667 OSLO</td>\n",
       "    </tr>\n",
       "    <tr>\n",
       "      <th>1</th>\n",
       "      <td>2</td>\n",
       "      <td>990031479</td>\n",
       "      <td>A-COM NORGE ASA</td>\n",
       "      <td>0355 OSLO</td>\n",
       "    </tr>\n",
       "    <tr>\n",
       "      <th>2</th>\n",
       "      <td>3</td>\n",
       "      <td>890687792</td>\n",
       "      <td>ABERDEEN EIENDOMSFOND ASIA ASA</td>\n",
       "      <td>0230 OSLO</td>\n",
       "    </tr>\n",
       "    <tr>\n",
       "      <th>3</th>\n",
       "      <td>4</td>\n",
       "      <td>989761390</td>\n",
       "      <td>ABERDEEN EIENDOMSFOND NORDEN/BALTIKUM ASA</td>\n",
       "      <td>0255 OSLO</td>\n",
       "    </tr>\n",
       "    <tr>\n",
       "      <th>4</th>\n",
       "      <td>5</td>\n",
       "      <td>988671258</td>\n",
       "      <td>ABERDEEN EIENDOMSFOND NORGE II ASA</td>\n",
       "      <td>0255 OSLO</td>\n",
       "    </tr>\n",
       "  </tbody>\n",
       "</table>\n",
       "</div>"
      ],
      "text/plain": [
       "   companyID     orgNum                                       name    address\n",
       "0          1  879447992                          24SEVENOFFICE ASA  0667 OSLO\n",
       "1          2  990031479                            A-COM NORGE ASA  0355 OSLO\n",
       "2          3  890687792             ABERDEEN EIENDOMSFOND ASIA ASA  0230 OSLO\n",
       "3          4  989761390  ABERDEEN EIENDOMSFOND NORDEN/BALTIKUM ASA  0255 OSLO\n",
       "4          5  988671258         ABERDEEN EIENDOMSFOND NORGE II ASA  0255 OSLO"
      ]
     },
     "execution_count": 160,
     "metadata": {},
     "output_type": "execute_result"
    }
   ],
   "source": [
    "companyID = pd.read_csv(\"data_companies.txt\", delimiter='\\t', \n",
    "                        header=None, names=[\"companyID\", \"orgNum\", \"name\", \"address\"])\n",
    "companyID.head()"
   ]
  },
  {
   "cell_type": "code",
   "execution_count": 161,
   "metadata": {
    "collapsed": false
   },
   "outputs": [
    {
     "data": {
      "text/html": [
       "<div>\n",
       "<table border=\"1\" class=\"dataframe\">\n",
       "  <thead>\n",
       "    <tr style=\"text-align: right;\">\n",
       "      <th></th>\n",
       "      <th>personalID</th>\n",
       "      <th>name</th>\n",
       "      <th>gender</th>\n",
       "    </tr>\n",
       "  </thead>\n",
       "  <tbody>\n",
       "    <tr>\n",
       "      <th>0</th>\n",
       "      <td>1</td>\n",
       "      <td>Aage Jakobsen</td>\n",
       "      <td>1</td>\n",
       "    </tr>\n",
       "    <tr>\n",
       "      <th>1</th>\n",
       "      <td>2</td>\n",
       "      <td>Aage Johan Rem�y</td>\n",
       "      <td>1</td>\n",
       "    </tr>\n",
       "    <tr>\n",
       "      <th>2</th>\n",
       "      <td>3</td>\n",
       "      <td>Aage Rasmus Bjelland Figenschou</td>\n",
       "      <td>1</td>\n",
       "    </tr>\n",
       "    <tr>\n",
       "      <th>3</th>\n",
       "      <td>4</td>\n",
       "      <td>Aagot Irene Skjeldal</td>\n",
       "      <td>2</td>\n",
       "    </tr>\n",
       "    <tr>\n",
       "      <th>4</th>\n",
       "      <td>5</td>\n",
       "      <td>Aase Gundersen</td>\n",
       "      <td>2</td>\n",
       "    </tr>\n",
       "  </tbody>\n",
       "</table>\n",
       "</div>"
      ],
      "text/plain": [
       "   personalID                             name  gender\n",
       "0           1                    Aage Jakobsen       1\n",
       "1           2                 Aage Johan Rem�y       1\n",
       "2           3  Aage Rasmus Bjelland Figenschou       1\n",
       "3           4             Aagot Irene Skjeldal       2\n",
       "4           5                   Aase Gundersen       2"
      ]
     },
     "execution_count": 161,
     "metadata": {},
     "output_type": "execute_result"
    }
   ],
   "source": [
    "peopleID = pd.read_csv(\"data_people.txt\", delimiter=' ')\n",
    "peopleID.columns = [\"personalID\", \"name\", \"gender\"]\n",
    "peopleID.head()"
   ]
  },
  {
   "cell_type": "markdown",
   "metadata": {},
   "source": [
    "We should be able to add the information about the nodes once we create our graph. To make sure the node ids are unique, we will just append a 'p' for person and a 'c' for company to the front of the id columns"
   ]
  },
  {
   "cell_type": "code",
   "execution_count": 162,
   "metadata": {
    "collapsed": false
   },
   "outputs": [],
   "source": [
    "netDF.companyID     = ['c' + str(i) for i in netDF.companyID]\n",
    "netDF.personalID    = ['p' + str(i) for i in netDF.personalID]\n",
    "companyID.companyID = ['c' + str(i) for i in companyID.companyID]\n",
    "companyID.index = companyID.companyID\n",
    "peopleID.personalID = ['p' + str(i) for i in peopleID.personalID]\n",
    "peopleID.index = peopleID.personalID"
   ]
  },
  {
   "cell_type": "code",
   "execution_count": 163,
   "metadata": {
    "collapsed": false
   },
   "outputs": [],
   "source": [
    "g = nx.from_pandas_dataframe(netDF, 'companyID', 'personalID')"
   ]
  },
  {
   "cell_type": "code",
   "execution_count": 164,
   "metadata": {
    "collapsed": false
   },
   "outputs": [],
   "source": [
    "# nx.draw(g)\n",
    "# plt.show()"
   ]
  },
  {
   "cell_type": "code",
   "execution_count": 173,
   "metadata": {
    "collapsed": false
   },
   "outputs": [],
   "source": [
    "# Populate node attributes\n",
    "for n in g.node.keys():\n",
    "    if n[0] == 'c':\n",
    "        g.node[n]['name'] = companyID.loc[n, 'name']\n",
    "        g.node[n]['gender'] = 'NA'\n",
    "    if n[0] == 'p':\n",
    "        row = peopleID.loc[peopleID.personalID == n, :]\n",
    "        g.node[n]['name'] = peopleID.loc[n, 'name']\n",
    "        g.node[n]['gender'] = peopleID.loc[n, 'gender'] == 1 and 'male' or 'female'"
   ]
  },
  {
   "cell_type": "code",
   "execution_count": 175,
   "metadata": {
    "collapsed": false
   },
   "outputs": [],
   "source": [
    "nx.write_gexf(g, 'export.gexf')"
   ]
  }
 ],
 "metadata": {
  "kernelspec": {
   "display_name": "Python 2",
   "language": "python",
   "name": "python2"
  },
  "language_info": {
   "codemirror_mode": {
    "name": "ipython",
    "version": 2
   },
   "file_extension": ".py",
   "mimetype": "text/x-python",
   "name": "python",
   "nbconvert_exporter": "python",
   "pygments_lexer": "ipython2",
   "version": "2.7.9"
  }
 },
 "nbformat": 4,
 "nbformat_minor": 0
}
